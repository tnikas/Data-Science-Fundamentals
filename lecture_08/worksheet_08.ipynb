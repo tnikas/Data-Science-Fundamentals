{
 "cells": [
  {
   "attachments": {},
   "cell_type": "markdown",
   "metadata": {},
   "source": [
    "# Worksheet 08\n",
    "\n",
    "Name:  \n",
    "UID: \n",
    "\n",
    "### Topics\n",
    "\n",
    "- Soft Clustering\n",
    "- Clustering Aggregation\n",
    "\n",
    "### Probability Review\n",
    "\n",
    "Read through [the following](https://medium.com/@gallettilance/overview-of-probability-3272b72c82c8)\n",
    "\n",
    "### Soft Clustering\n",
    "\n",
    "We generate 10 data points that come from a normal distribution with mean 5 and variance 1."
   ]
  },
  {
   "cell_type": "code",
   "execution_count": 37,
   "metadata": {},
   "outputs": [
    {
     "name": "stdout",
     "output_type": "stream",
     "text": [
      "[4.820717111814642, 5.331423021787932, 4.577279659235284, 4.3529629169408235, 4.414164694555639, 2.539132682891533, 6.214825842266128, 6.224674288938907, 3.7737017702912485, 4.5537689417083875]\n"
     ]
    }
   ],
   "source": [
    "import random\n",
    "import numpy as np\n",
    "from sklearn.cluster import KMeans\n",
    "\n",
    "mean = 5\n",
    "stdev = 1\n",
    "\n",
    "s1 = np.random.normal(mean, stdev, 10).tolist()\n",
    "print(s1)"
   ]
  },
  {
   "cell_type": "markdown",
   "metadata": {},
   "source": [
    "a) Generate 10 more data points, this time coming from a normal distribution with mean 8 and variance 1."
   ]
  },
  {
   "cell_type": "code",
   "execution_count": 38,
   "metadata": {},
   "outputs": [
    {
     "name": "stdout",
     "output_type": "stream",
     "text": [
      "[6.958815398226451, 9.359258078773456, 8.119931001733296, 8.026488537321535, 7.693393106080702, 8.11878550373014, 7.269658922388118, 8.184034757631307, 6.8930983222722695, 6.862457925704376]\n"
     ]
    }
   ],
   "source": [
    "s2 = np.random.normal(8 ,1 ,10 ).tolist()\n",
    "print(s2)"
   ]
  },
  {
   "attachments": {},
   "cell_type": "markdown",
   "metadata": {},
   "source": [
    "b) Flip a fair coin 10 times. If the coin lands on H, then pick the last data point of `s1` and remove it from `s1`, if T then pick the last data point from `s2` and remove it from `s2`. Add these 10 points to a list called `data`."
   ]
  },
  {
   "cell_type": "code",
   "execution_count": 39,
   "metadata": {},
   "outputs": [
    {
     "name": "stdout",
     "output_type": "stream",
     "text": [
      "[6.958815398226451, 4.820717111814642, 9.359258078773456, 8.119931001733296, 8.026488537321535, 7.693393106080702, 5.331423021787932, 8.11878550373014, 4.577279659235284, 4.3529629169408235]\n"
     ]
    }
   ],
   "source": [
    "data = []\n",
    "for i in range(10):\n",
    "    # flip coin\n",
    "    coin_output = random.choice([0, 1])\n",
    "    if coin_output == 0:\n",
    "        p1 = s1.pop(0)\n",
    "        data.append(p1)\n",
    "    else:\n",
    "        p2 = s2.pop(0)\n",
    "        data.append(p2)\n",
    "print(data)"
   ]
  },
  {
   "cell_type": "markdown",
   "metadata": {},
   "source": [
    "c) This `data` is a Gaussian Mixture Distribution with 2 mixture components. Over the next few questions we will walk through the GMM algorithm to see if we can uncover the parameters we used to generate this data. First, please list all these parameters of the GMM that created `data` and the values we know they have."
   ]
  },
  {
   "cell_type": "markdown",
   "metadata": {},
   "source": [
    "* Number of Components: The GMM was created with 2 mixture components.\n",
    "\n",
    "* Mixture Weights: The weights are both 0.5 since we used a fair coin flip.\n",
    "\n",
    "* Means: We generated s1 with a mean of 5 and s2 with a mean of 8, so the means are 5 and 8\n",
    "\n",
    "* Covariances: We used variance 1 for both distributions, so the covariances are both 1."
   ]
  },
  {
   "cell_type": "markdown",
   "metadata": {},
   "source": [
    "d) Let's assume there are two mixture components (note: we could plot the data and make the observation that there are two clusters). The EM algorithm asks us to start with a random `mean_j`, `variance_j`, `P(S_j)` for each component j. One method we could use to find sensible values for these is to apply K means with k=2 here.\n",
    "\n",
    "1. the centroids would be the estimates of the `mean_j`\n",
    "2. the intra-cluster variance could be the estimate of `variance_j`\n",
    "3. the proportion of points in each cluster could be the estimate of `P(S_j)`\n",
    "\n",
    "Go through this process and list the parameter estimates it gives. Are they close or far from the true values?"
   ]
  },
  {
   "cell_type": "code",
   "execution_count": 40,
   "metadata": {},
   "outputs": [
    {
     "name": "stdout",
     "output_type": "stream",
     "text": [
      "[4.820717111814642, 5.331423021787932, 4.577279659235284, 4.3529629169408235]\n",
      "[6.958815398226451, 9.359258078773456, 8.119931001733296, 8.026488537321535, 7.693393106080702, 8.11878550373014]\n",
      "P(S_1) = 0.4,  P(S_2) = 0.6\n",
      "mean_1 = 4.770595677444671,  mean_2 = 8.046111937644262\n",
      "var_1 = 0.13220691847220362,  var_2 = 0.5070154843338079\n"
     ]
    },
    {
     "name": "stderr",
     "output_type": "stream",
     "text": [
      "/Users/themistoklis/opt/anaconda3/lib/python3.9/site-packages/sklearn/cluster/_kmeans.py:1412: FutureWarning: The default value of `n_init` will change from 10 to 'auto' in 1.4. Set the value of `n_init` explicitly to suppress the warning\n",
      "  super()._check_params_vs_input(X, default_n_init=10)\n"
     ]
    }
   ],
   "source": [
    "kmeans = KMeans(2, init='k-means++').fit(X=np.array(data).reshape(-1, 1))\n",
    "\n",
    "s1 = [x[0] for x in filter(lambda x: x[1] == 0, zip(data, kmeans.labels_))]\n",
    "print(s1)\n",
    "s2 = [x[0] for x in filter(lambda x: x[1] == 1, zip(data, kmeans.labels_))]\n",
    "print(s2)\n",
    "\n",
    "prob_s = [ len(s1) / (len(s1) + len(s2)) , len(s2) / (len(s1) + len(s2))]\n",
    "mean = [ sum(s1)/len(s1) , sum(s2)/len(s2) ]\n",
    "var = [ sum(map(lambda x : (x - mean[0])**2, s1)) / len(s1) , sum(map(lambda x : (x - mean[1])**2, s2)) / len(s2) ]\n",
    "\n",
    "print(\"P(S_1) = \" + str(prob_s[0]) + \",  P(S_2) = \" + str(prob_s[1]))\n",
    "print(\"mean_1 = \" + str(mean[0]) + \",  mean_2 = \" + str(mean[1]))\n",
    "print(\"var_1 = \" + str(var[0]) + \",  var_2 = \" + str(var[1]))"
   ]
  },
  {
   "cell_type": "markdown",
   "metadata": {},
   "source": [
    "Means are quite close to true values, while variances are not that close. This is probably due to the limited points that we generated."
   ]
  },
  {
   "cell_type": "markdown",
   "metadata": {},
   "source": [
    "e) For each data point, compute `P(S_j | X_i)`. Comment on which cluster you think each point belongs to based on the estimated probabilities. How does that compare to the truth?"
   ]
  },
  {
   "cell_type": "code",
   "execution_count": 41,
   "metadata": {},
   "outputs": [
    {
     "name": "stdout",
     "output_type": "stream",
     "text": [
      "point =  6.958815398226451\n",
      "probability of observing that point if it came from cluster 0 =  1.4982562634702234e-08\n",
      "probability of observing that point if it came from cluster 1 =  0.17461227300301607\n",
      "point =  4.820717111814642\n",
      "probability of observing that point if it came from cluster 0 =  1.0868179546431347\n",
      "probability of observing that point if it came from cluster 1 =  1.9627938266500102e-05\n",
      "point =  9.359258078773456\n",
      "probability of observing that point if it came from cluster 0 =  2.860961355198429e-35\n",
      "probability of observing that point if it came from cluster 1 =  0.1023021196105721\n",
      "point =  8.119931001733296\n",
      "probability of observing that point if it came from cluster 0 =  4.1196766082368115e-19\n",
      "probability of observing that point if it came from cluster 1 =  0.5572699426882103\n",
      "point =  8.026488537321535\n",
      "probability of observing that point if it came from cluster 0 =  4.252225964310153e-18\n",
      "probability of observing that point if it came from cluster 1 =  0.5600599679238666\n",
      "point =  7.693393106080702\n",
      "probability of observing that point if it came from cluster 0 =  1.020925594462554e-14\n",
      "probability of observing that point if it came from cluster 1 =  0.49558282109689367\n",
      "point =  5.331423021787932\n",
      "probability of observing that point if it came from cluster 0 =  0.33394743106879216\n",
      "probability of observing that point if it came from cluster 1 =  0.00039096340339422485\n",
      "point =  8.11878550373014\n",
      "probability of observing that point if it came from cluster 0 =  4.240960584377921e-19\n",
      "probability of observing that point if it came from cluster 1 =  0.5573621701908309\n",
      "point =  4.577279659235284\n",
      "probability of observing that point if it came from cluster 0 =  0.9525805553456148\n",
      "probability of observing that point if it came from cluster 1 =  3.934867555859701e-06\n",
      "point =  4.3529629169408235\n",
      "probability of observing that point if it came from cluster 0 =  0.5672915446167772\n",
      "probability of observing that point if it came from cluster 1 =  8.069887853944973e-07\n",
      "6.958815398226451\n",
      "Probability of coming from S_1 = 5.720316416854789e-08\n",
      "Probability of coming from S_2 = 0.9999999427968359\n",
      "\n",
      "4.820717111814642\n",
      "Probability of coming from S_1 = 0.9999729107255598\n",
      "Probability of coming from S_2 = 2.7089274440177775e-05\n",
      "\n",
      "9.359258078773456\n",
      "Probability of coming from S_1 = 1.8643871479816155e-34\n",
      "Probability of coming from S_2 = 1.0\n",
      "\n",
      "8.119931001733296\n",
      "Probability of coming from S_1 = 4.928403385456769e-19\n",
      "Probability of coming from S_2 = 1.0\n",
      "\n",
      "8.026488537321535\n",
      "Probability of coming from S_1 = 5.061631739273787e-18\n",
      "Probability of coming from S_2 = 1.0\n",
      "\n",
      "7.693393106080702\n",
      "Probability of coming from S_1 = 1.3733669409052337e-14\n",
      "Probability of coming from S_2 = 0.9999999999999862\n",
      "\n",
      "5.331423021787932\n",
      "Probability of coming from S_1 = 0.9982469784172575\n",
      "Probability of coming from S_2 = 0.0017530215827425372\n",
      "\n",
      "8.11878550373014\n",
      "Probability of coming from S_1 = 5.072656896114654e-19\n",
      "Probability of coming from S_2 = 1.0\n",
      "\n",
      "4.577279659235284\n",
      "Probability of coming from S_1 = 0.9999938039205928\n",
      "Probability of coming from S_2 = 6.196079407184985e-06\n",
      "\n",
      "4.3529629169408235\n",
      "Probability of coming from S_1 = 0.9999978662107577\n",
      "Probability of coming from S_2 = 2.133789242343598e-06\n",
      "\n"
     ]
    }
   ],
   "source": [
    "from scipy.stats import norm\n",
    "\n",
    "prob_s0_x = [] # P(S_0 | X_i)\n",
    "prob_s1_x = [] # P(S_1 | X_i)\n",
    "prob_x = [] # P(X_i)\n",
    "\n",
    "k = 2\n",
    "\n",
    "for p in data:\n",
    "    print(\"point = \", p)\n",
    "    pdf_i = []\n",
    "\n",
    "    for j in range(k):\n",
    "        # P(X_i | S_j)\n",
    "        pdf_i.append(norm.pdf(p, mean[j], var[j]**0.5))\n",
    "        print(\"probability of observing that point if it came from cluster \" + str(j) + \" = \", pdf_i[j])\n",
    "        # P(S_j) already computed\n",
    "        prob_s[j]\n",
    "\n",
    "    # P(X_i) = P(S_0)P(X_i | S_0) + P(S_1)P(X_i | S_1)\n",
    "    prob_x = prob_s[0] * pdf_i[0] + prob_s[1] * pdf_i[1]\n",
    "\n",
    "    # P(S_j | X_i) = P(X_i | S_j)P(S_j) / P(X_i)\n",
    "    prob_s0_x.append(pdf_i[0] * prob_s[0] / prob_x)\n",
    "    prob_s1_x.append(pdf_i[1] * prob_s[1] / prob_x)\n",
    "\n",
    "probs = zip(data, prob_s0_x, prob_s1_x)\n",
    "for p in probs:\n",
    "    print(p[0])\n",
    "    print(\"Probability of coming from S_1 = \" + str(p[1]))\n",
    "    print(\"Probability of coming from S_2 = \" + str(p[2]))\n",
    "    print()\n"
   ]
  },
  {
   "cell_type": "markdown",
   "metadata": {},
   "source": [
    "The estimated probabilities of the data points are consistently approaching zero or one, indicating a high level of accuracy in their approximation to the true values."
   ]
  },
  {
   "cell_type": "markdown",
   "metadata": {},
   "source": [
    "f) Having computed `P(S_j | X_i)`, update the estimates of `mean_j`, `var_j`, and `P(S_j)`. How different are these values from the original ones you got from K means? briefly comment."
   ]
  },
  {
   "cell_type": "code",
   "execution_count": 42,
   "metadata": {},
   "outputs": [
    {
     "name": "stdout",
     "output_type": "stream",
     "text": [
      "P(S_1) = 0.4,  P(S_2) = 0.6\n",
      "mean_1 = 4.7703499960822215,  mean_2 = 8.045299580906725\n",
      "var_1 = 0.13212798926136432,  var_2 = 0.5090804793434072\n"
     ]
    }
   ],
   "source": [
    "prob_c = [sum(prob_s0_x)/ len(prob_s0_x), sum(prob_s1_x)/ len(prob_s1_x)]\n",
    "mean = [sum([x[0] * x[1] for x in zip(prob_s0_x, data)]) / sum(prob_s0_x), sum([x[0] * x[1] for x in zip(prob_s1_x, data)]) / sum(prob_s1_x)]\n",
    "var = [ sum([x[0] * (x[1] - mean[0]) ** 2 for x in zip(prob_s0_x, data)]) / sum(prob_s0_x) , sum([x[0] * (x[1] - mean[1]) ** 2 for x in zip(prob_s1_x, data)]) / sum(prob_s1_x)]\n",
    "\n",
    "print(\"P(S_1) = \" + str(prob_s[0]) + \",  P(S_2) = \" + str(prob_s[1]))\n",
    "print(\"mean_1 = \" + str(mean[0]) + \",  mean_2 = \" + str(mean[1]))\n",
    "print(\"var_1 = \" + str(var[0]) + \",  var_2 = \" + str(var[1]))"
   ]
  },
  {
   "cell_type": "markdown",
   "metadata": {},
   "source": [
    "Just like before, means are really close to true values while variances not that close. However, all values moved closer to their real ones."
   ]
  },
  {
   "cell_type": "markdown",
   "metadata": {},
   "source": [
    "g) Update `P(S_j | X_i)`. Comment on any differences or lack thereof you observe."
   ]
  },
  {
   "cell_type": "code",
   "execution_count": 43,
   "metadata": {},
   "outputs": [
    {
     "name": "stdout",
     "output_type": "stream",
     "text": [
      "point =  6.958815398226451\n",
      "probability of observing that point if it came from cluster 0 =  1.4765579180971969e-08\n",
      "probability of observing that point if it came from cluster 1 =  0.1753877297437924\n",
      "point =  4.820717111814642\n",
      "probability of observing that point if it came from cluster 0 =  1.0870347907911688\n",
      "probability of observing that point if it came from cluster 1 =  2.052580021799672e-05\n",
      "point =  9.359258078773456\n",
      "probability of observing that point if it came from cluster 0 =  2.705682156656321e-35\n",
      "probability of observing that point if it came from cluster 1 =  0.10258582619856085\n",
      "point =  8.119931001733296\n",
      "probability of observing that point if it came from cluster 0 =  3.9928336418803974e-19\n",
      "probability of observing that point if it came from cluster 1 =  0.5560848149290009\n",
      "point =  8.026488537321535\n",
      "probability of observing that point if it came from cluster 0 =  4.127769794237376e-18\n",
      "probability of observing that point if it came from cluster 1 =  0.558940922480635\n",
      "point =  7.693393106080702\n",
      "probability of observing that point if it came from cluster 0 =  9.962803068678e-15\n",
      "probability of observing that point if it came from cluster 1 =  0.49510113949461\n",
      "point =  5.331423021787932\n",
      "probability of observing that point if it came from cluster 0 =  0.33346187986955084\n",
      "probability of observing that point if it came from cluster 1 =  0.0004035871851305364\n",
      "point =  8.11878550373014\n",
      "probability of observing that point if it came from cluster 0 =  4.1104633396164693e-19\n",
      "probability of observing that point if it came from cluster 1 =  0.5561774895958342\n",
      "point =  4.577279659235284\n",
      "probability of observing that point if it came from cluster 0 =  0.9531269151064128\n",
      "probability of observing that point if it came from cluster 1 =  4.143385372372135e-06\n",
      "point =  4.3529629169408235\n",
      "probability of observing that point if it came from cluster 0 =  0.5676779306190386\n",
      "probability of observing that point if it came from cluster 1 =  8.55537733740959e-07\n",
      "6.958815398226451\n",
      "Probability of coming from S_1 = 5.612547078337633e-08\n",
      "Probability of coming from S_2 = 0.9999999438745293\n",
      "\n",
      "4.820717111814642\n",
      "Probability of coming from S_1 = 0.9999716772374106\n",
      "Probability of coming from S_2 = 2.8322762589352997e-05\n",
      "\n",
      "9.359258078773456\n",
      "Probability of coming from S_1 = 1.7583209798848922e-34\n",
      "Probability of coming from S_2 = 1.0\n",
      "\n",
      "8.119931001733296\n",
      "Probability of coming from S_1 = 4.786840106264713e-19\n",
      "Probability of coming from S_2 = 1.0\n",
      "\n",
      "8.026488537321535\n",
      "Probability of coming from S_1 = 4.9233226962137924e-18\n",
      "Probability of coming from S_2 = 1.0\n",
      "\n",
      "7.693393106080702\n",
      "Probability of coming from S_1 = 1.341517557247355e-14\n",
      "Probability of coming from S_2 = 0.9999999999999866\n",
      "\n",
      "5.331423021787932\n",
      "Probability of coming from S_1 = 0.9981878476312737\n",
      "Probability of coming from S_2 = 0.0018121523687262707\n",
      "\n",
      "8.11878550373014\n",
      "Probability of coming from S_1 = 4.927040278219436e-19\n",
      "Probability of coming from S_2 = 1.0\n",
      "\n",
      "4.577279659235284\n",
      "Probability of coming from S_1 = 0.9999934793179863\n",
      "Probability of coming from S_2 = 6.520682013597957e-06\n",
      "\n",
      "4.3529629169408235\n",
      "Probability of coming from S_1 = 0.9999977393806764\n",
      "Probability of coming from S_2 = 2.260619323608949e-06\n",
      "\n"
     ]
    }
   ],
   "source": [
    "prob_s0_x = [] # P(S_0 | X_i)\n",
    "prob_s1_x = [] # P(S_1 | X_i)\n",
    "for p in data:\n",
    "    print(\"point = \", p)\n",
    "    pdf_i = []\n",
    "\n",
    "    for j in range(k):\n",
    "        # P(X_i | S_j)\n",
    "        pdf_i.append(norm.pdf(p, mean[j], var[j]**0.5))\n",
    "        print(\"probability of observing that point if it came from cluster \" + str(j) + \" = \", pdf_i[j])\n",
    "        # P(S_j) already computed\n",
    "        prob_s[j]\n",
    "\n",
    "    # P(X_i) = P(S_0)P(X_i | S_0) + P(S_1)P(X_i | S_1)\n",
    "    prob_x = prob_s[0] * pdf_i[0] + prob_s[1] * pdf_i[1]\n",
    "\n",
    "    # P(S_j | X_i) = P(X_i | S_j)P(S_j) / P(X_i)\n",
    "    prob_s0_x.append(pdf_i[0] * prob_s[0] / prob_x)\n",
    "    prob_s1_x.append(pdf_i[1] * prob_s[1] / prob_x)\n",
    "    \n",
    "probs = zip(data, prob_s0_x, prob_s1_x)\n",
    "for p in probs:\n",
    "    print(p[0])\n",
    "    print(\"Probability of coming from S_1 = \" + str(p[1]))\n",
    "    print(\"Probability of coming from S_2 = \" + str(p[2]))\n",
    "    print()"
   ]
  },
  {
   "cell_type": "markdown",
   "metadata": {},
   "source": [
    "The probabilities where already close to 1 (and zero respectively) so we do not observe great differences or anything unexpected."
   ]
  },
  {
   "cell_type": "markdown",
   "metadata": {},
   "source": [
    "h) Use `P(S_j | X_i)` to create a hard assignment - label each point as belonging to a specific cluster (0 or 1)"
   ]
  },
  {
   "cell_type": "code",
   "execution_count": 44,
   "metadata": {},
   "outputs": [
    {
     "name": "stdout",
     "output_type": "stream",
     "text": [
      "Hard Assignments: [1, 0, 1, 1, 1, 1, 0, 1, 0, 0]\n"
     ]
    }
   ],
   "source": [
    "hard_assign = []\n",
    "\n",
    "for i in range(len(data)):\n",
    "    if prob_s0_x[i] > prob_s1_x[i]:\n",
    "        hard_assign.append(0)\n",
    "    else:\n",
    "        hard_assign.append(1)\n",
    "print(\"Hard Assignments:\", hard_assign)"
   ]
  },
  {
   "cell_type": "markdown",
   "metadata": {},
   "source": [
    "We also display the dataset, to provide an additional layer of evaluation to complement the already high probabilities."
   ]
  },
  {
   "cell_type": "code",
   "execution_count": 45,
   "metadata": {},
   "outputs": [
    {
     "name": "stdout",
     "output_type": "stream",
     "text": [
      "[6.958815398226451, 4.820717111814642, 9.359258078773456, 8.119931001733296, 8.026488537321535, 7.693393106080702, 5.331423021787932, 8.11878550373014, 4.577279659235284, 4.3529629169408235]\n"
     ]
    }
   ],
   "source": [
    "print(data)"
   ]
  }
 ],
 "metadata": {
  "kernelspec": {
   "display_name": "Python 3",
   "language": "python",
   "name": "python3"
  },
  "language_info": {
   "codemirror_mode": {
    "name": "ipython",
    "version": 3
   },
   "file_extension": ".py",
   "mimetype": "text/x-python",
   "name": "python",
   "nbconvert_exporter": "python",
   "pygments_lexer": "ipython3",
   "version": "3.9.12"
  },
  "orig_nbformat": 4,
  "vscode": {
   "interpreter": {
    "hash": "e7370f93d1d0cde622a1f8e1c04877d8463912d04d973331ad4851f04de6915a"
   }
  }
 },
 "nbformat": 4,
 "nbformat_minor": 2
}
